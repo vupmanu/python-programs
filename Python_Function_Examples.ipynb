{
 "cells": [
  {
   "cell_type": "markdown",
   "id": "5fb4b9e2",
   "metadata": {},
   "source": [
    "### Basic Function (No Arguments, No Return)\n"
   ]
  },
  {
   "cell_type": "markdown",
   "id": "401aa42e",
   "metadata": {},
   "source": [
    "### Basic Function (No Arguments, No Return)\n"
   ]
  },
  {
   "cell_type": "markdown",
   "id": "5018bd59",
   "metadata": {},
   "source": [
    "### Function with Arguments (Positional)"
   ]
  },
  {
   "cell_type": "code",
   "execution_count": null,
   "id": "9beccd77",
   "metadata": {},
   "outputs": [],
   "source": [
    "def add(a, b):\n",
    "    return a + b\n",
    "\n",
    "result = add(5, 3)  # Output: 8\n",
    "print(result)"
   ]
  },
  {
   "cell_type": "markdown",
   "id": "212c7a08",
   "metadata": {},
   "source": [
    "### Function with Default Arguments"
   ]
  },
  {
   "cell_type": "code",
   "execution_count": null,
   "id": "4c686305",
   "metadata": {},
   "outputs": [],
   "source": [
    "def greet(name=\"Guest\"):\n",
    "    print(f\"Hello, {name}!\")\n",
    "\n",
    "greet(\"Alice\")\n",
    "greet()"
   ]
  },
  {
   "cell_type": "markdown",
   "id": "0a53b1b9",
   "metadata": {},
   "source": [
    "### Function with Keyword Arguments"
   ]
  },
  {
   "cell_type": "code",
   "execution_count": null,
   "id": "f3e5d5c4",
   "metadata": {},
   "outputs": [],
   "source": [
    "def introduce(name, age):\n",
    "    print(f\"My name is {name} and I am {age} years old.\")\n",
    "\n",
    "introduce(age=25, name=\"John\")"
   ]
  },
  {
   "cell_type": "markdown",
   "id": "bdae2c8a",
   "metadata": {},
   "source": [
    "### Function with Variable-Length Arguments (*args)"
   ]
  },
  {
   "cell_type": "code",
   "execution_count": null,
   "id": "27e22000",
   "metadata": {},
   "outputs": [],
   "source": [
    "def total_sum(*args):\n",
    "    return sum(args)\n",
    "\n",
    "print(total_sum(1, 2, 3))"
   ]
  },
  {
   "cell_type": "markdown",
   "id": "3a5fc66d",
   "metadata": {},
   "source": [
    "### Function with Keyword Variable-Length Arguments (**kwargs)"
   ]
  },
  {
   "cell_type": "code",
   "execution_count": null,
   "id": "aba95c2d",
   "metadata": {},
   "outputs": [],
   "source": [
    "def print_info(**kwargs):\n",
    "    for key, value in kwargs.items():\n",
    "        print(f\"{key}: {value}\")\n",
    "\n",
    "print_info(name=\"Alice\", age=30, city=\"New York\")"
   ]
  },
  {
   "cell_type": "markdown",
   "id": "7cd568bb",
   "metadata": {},
   "source": [
    "### Function with Both *args and **kwargs"
   ]
  },
  {
   "cell_type": "code",
   "execution_count": null,
   "id": "bf05b2ac",
   "metadata": {},
   "outputs": [],
   "source": [
    "def show_data(*args, **kwargs):\n",
    "    print(\"Args:\", args)\n",
    "    print(\"Kwargs:\", kwargs)\n",
    "\n",
    "show_data(1, 2, name=\"Alice\", age=30)"
   ]
  },
  {
   "cell_type": "markdown",
   "id": "ac78c12f",
   "metadata": {},
   "source": [
    "### Function Returning Multiple Values"
   ]
  },
  {
   "cell_type": "code",
   "execution_count": null,
   "id": "64497c04",
   "metadata": {},
   "outputs": [],
   "source": [
    "def calculate(a, b):\n",
    "    return a + b, a - b, a * b\n",
    "\n",
    "x, y, z = calculate(5, 3)\n",
    "print(x, y, z)"
   ]
  },
  {
   "cell_type": "markdown",
   "id": "64650abf",
   "metadata": {},
   "source": [
    "### Recursive Function"
   ]
  },
  {
   "cell_type": "code",
   "execution_count": null,
   "id": "afe2a886",
   "metadata": {},
   "outputs": [],
   "source": [
    "def factorial(n):\n",
    "    if n == 0:\n",
    "        return 1\n",
    "    return n * factorial(n - 1)\n",
    "\n",
    "print(factorial(5))"
   ]
  },
  {
   "cell_type": "markdown",
   "id": "2e1755bf",
   "metadata": {},
   "source": [
    "### Lambda Function (Anonymous Function)"
   ]
  },
  {
   "cell_type": "code",
   "execution_count": null,
   "id": "d793a59e",
   "metadata": {},
   "outputs": [],
   "source": [
    "square = lambda x: x ** 2\n",
    "print(square(4))"
   ]
  },
  {
   "cell_type": "markdown",
   "id": "5e43a23b",
   "metadata": {},
   "source": [
    "### Function with Type Hinting"
   ]
  },
  {
   "cell_type": "code",
   "execution_count": null,
   "id": "8e597452",
   "metadata": {},
   "outputs": [],
   "source": [
    "def multiply(a: int, b: int) -> int:\n",
    "    return a * b\n",
    "\n",
    "print(multiply(3, 4))"
   ]
  },
  {
   "cell_type": "markdown",
   "id": "83345618",
   "metadata": {},
   "source": [
    "### Nested Function"
   ]
  },
  {
   "cell_type": "code",
   "execution_count": null,
   "id": "249ac178",
   "metadata": {},
   "outputs": [],
   "source": [
    "def outer():\n",
    "    def inner():\n",
    "        print(\"Inside inner function\")\n",
    "    print(\"Inside outer function\")\n",
    "    inner()\n",
    "\n",
    "outer()"
   ]
  },
  {
   "cell_type": "markdown",
   "id": "7e21c337",
   "metadata": {},
   "source": [
    "### Function as Argument"
   ]
  },
  {
   "cell_type": "code",
   "execution_count": null,
   "id": "4a5ee75d",
   "metadata": {},
   "outputs": [],
   "source": [
    "def shout(text):\n",
    "    return text.upper()\n",
    "\n",
    "def whisper(text):\n",
    "    return text.lower()\n",
    "\n",
    "def speak(func, message):\n",
    "    return func(message)\n",
    "\n",
    "print(speak(shout, \"Hello\"))\n",
    "print(speak(whisper, \"Hello\"))"
   ]
  },
  {
   "cell_type": "markdown",
   "id": "dbd3464d",
   "metadata": {},
   "source": [
    "### Function Returning Another Function (Closure)"
   ]
  },
  {
   "cell_type": "code",
   "execution_count": null,
   "id": "01a664ca",
   "metadata": {},
   "outputs": [],
   "source": [
    "def make_multiplier(n):\n",
    "    def multiplier(x):\n",
    "        return x * n\n",
    "    return multiplier\n",
    "\n",
    "times3 = make_multiplier(3)\n",
    "print(times3(10))"
   ]
  },
  {
   "cell_type": "markdown",
   "id": "22fda6ae",
   "metadata": {},
   "source": [
    "### Generator Function (Using yield)"
   ]
  },
  {
   "cell_type": "code",
   "execution_count": null,
   "id": "d2f3ca3b",
   "metadata": {},
   "outputs": [],
   "source": [
    "def count_up_to(max):\n",
    "    count = 1\n",
    "    while count <= max:\n",
    "        yield count\n",
    "        count += 1\n",
    "\n",
    "for number in count_up_to(5):\n",
    "    print(number)"
   ]
  },
  {
   "cell_type": "markdown",
   "id": "a0b72681",
   "metadata": {},
   "source": [
    "### Summary of Argument Types"
   ]
  },
  {
   "cell_type": "code",
   "execution_count": null,
   "id": "1924dd9a",
   "metadata": {},
   "outputs": [],
   "source": [
    "| Type               | Syntax Example                      |\n",
    "|--------------------|-------------------------------------|\n",
    "| Positional         | def f(a, b):                        |\n",
    "| Default            | def f(a=10):                        |\n",
    "| Keyword            | f(a=5)                              |\n",
    "| Variable Positional| def f(*args):                       |\n",
    "| Variable Keyword   | def f(**kwargs):                    |\n",
    "| Mixed              | def f(a, *args, b=1, **kwargs):     |"
   ]
  }
 ],
 "metadata": {},
 "nbformat": 4,
 "nbformat_minor": 5
}